{
 "cells": [
  {
   "cell_type": "markdown",
   "id": "5e3cc79c",
   "metadata": {},
   "source": [
    "# Processing of Sentinel-1 SAR images\n",
    "## Application to flood monitoring"
   ]
  },
  {
   "cell_type": "markdown",
   "id": "2b7ba506",
   "metadata": {},
   "source": [
    "### Settings"
   ]
  },
  {
   "cell_type": "code",
   "execution_count": null,
   "id": "47660e7f",
   "metadata": {},
   "outputs": [],
   "source": [
    "in_dir='C:/Users/john_/Documents_fora_OneDrive/Earth_Pulse'\n",
    "!ls $in_dir"
   ]
  },
  {
   "cell_type": "code",
   "execution_count": null,
   "id": "e59ac5df",
   "metadata": {},
   "outputs": [],
   "source": [
    "im1_name=\"S1B_IW_GRDH_1SDV_20200109T060024_20200109T060049_019736_025508_A2A7.SAFE\"\n",
    "tiff_vv1=\"s1b-iw-grd-vv-20200109t060024-20200109t060049-019736-025508-001.tiff\""
   ]
  },
  {
   "cell_type": "code",
   "execution_count": null,
   "id": "c879ebd7",
   "metadata": {},
   "outputs": [],
   "source": [
    "proc_dir='C:/Users/john_/Documents_fora_OneDrive/Earth_Pulse/OutputData'\n",
    "!ls $proc_dir"
   ]
  },
  {
   "cell_type": "markdown",
   "id": "ed957f0b",
   "metadata": {},
   "source": [
    "### Radiometric Calibration"
   ]
  },
  {
   "cell_type": "code",
   "execution_count": null,
   "id": "b513fdb3",
   "metadata": {},
   "outputs": [],
   "source": [
    "!otbcli_SARCalibration -in $in_dir/$im1_name/measurement/$tiff_vv1 -out $proc_dir/s1a-iw-grd-vv-20200109-sigma0.tiff -lut sigma"
   ]
  },
  {
   "cell_type": "markdown",
   "id": "58eb027f",
   "metadata": {},
   "source": [
    "### Clipping"
   ]
  },
  {
   "cell_type": "code",
   "execution_count": null,
   "id": "fa8c4414",
   "metadata": {},
   "outputs": [],
   "source": [
    "!pwd\n",
    "\n",
    "!otbcli_ExtractROI -in $proc_dir/s1a-iw-grd-vv-20200109-sigma0.tiff  -mode extent -mode.extent.unit lonlat -mode.extent.ulx 2.3 -mode.extent.uly 41.36 -mode.extent.lrx 2.5 -mode.extent.lry 41.6 -out $proc_dir/s1a-iw-grd-vv-20200109-sigma0Clip.tiff"
   ]
  },
  {
   "cell_type": "markdown",
   "id": "49b24455",
   "metadata": {},
   "source": [
    "### Speckle filtering"
   ]
  },
  {
   "cell_type": "code",
   "execution_count": null,
   "id": "342e58d7",
   "metadata": {},
   "outputs": [],
   "source": [
    "!otbcli_Despeckle -in $proc_dir/s1a-iw-grd-vv-20200109-sigma0Clip.tiff -out $proc_dir/s1a-iw-grd-vv-20200109-sigma0ClipFilt.tiff -filter frost -filter.frost.rad 3 -filter.frost.deramp 0.2"
   ]
  },
  {
   "cell_type": "markdown",
   "id": "10ba5fb7",
   "metadata": {},
   "source": [
    "### Othorectification"
   ]
  },
  {
   "cell_type": "code",
   "execution_count": null,
   "id": "f07c35bc",
   "metadata": {},
   "outputs": [],
   "source": [
    "!otbcli_OrthoRectification -io.in $proc_dir/s1a-iw-grd-vv-20200109-sigma0ClipFilt.tiff -io.out $proc_dir/s1a-iw-grd-vv-20200109-sigma0ClipFiltOrtho.tiff -map wgs -opt.gridspacing 4 -elev.dem $in_dir/SRTM/ -elev.geoid $in_dir/Geoid/egm96.grd"
   ]
  },
  {
   "cell_type": "code",
   "execution_count": null,
   "id": "6cbd4bfc",
   "metadata": {},
   "outputs": [],
   "source": []
  }
 ],
 "metadata": {
  "kernelspec": {
   "display_name": "Python 3",
   "language": "python",
   "name": "python3"
  }
 },
 "nbformat": 4,
 "nbformat_minor": 5
}
